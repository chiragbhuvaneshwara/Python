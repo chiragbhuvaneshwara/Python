{
 "cells": [
  {
   "cell_type": "code",
   "execution_count": 2,
   "metadata": {},
   "outputs": [
    {
     "name": "stdout",
     "output_type": "stream",
     "text": [
      "True\n"
     ]
    }
   ],
   "source": [
    "def linearSearch(L, e):\n",
    "    \"\"\"\n",
    "    L: List of int\n",
    "    \n",
    "    e: int\n",
    "    \n",
    "    return True if e in L\n",
    "    \"\"\"\n",
    "    \n",
    "    for element in L:\n",
    "        \n",
    "        if element == e:\n",
    "            return True\n",
    "    return False\n",
    "\n",
    "L = [1 , 2 , 3]\n",
    "print(linearSearch(L, 3))\n",
    "        "
   ]
  },
  {
   "cell_type": "code",
   "execution_count": 4,
   "metadata": {},
   "outputs": [
    {
     "name": "stdout",
     "output_type": "stream",
     "text": [
      "False\n"
     ]
    }
   ],
   "source": [
    "def betterLinearSearch(L, e):\n",
    "    \"\"\"\n",
    "     L: List of int in Ascending order\n",
    "    \n",
    "    e: int\n",
    "    \n",
    "    return True if e in L\n",
    "    \n",
    "    Faster in time but same linear complexity as linearSearch(L,e)\n",
    "    \"\"\"\n",
    "    \n",
    "    for element in L:\n",
    "        \n",
    "        if element == e:\n",
    "            return True\n",
    "        \n",
    "        if element > e:\n",
    "            return False\n",
    "    return False\n",
    "\n",
    "L = [1 , 2 , 3]\n",
    "print(betterLinearSearch(L, 1.5))"
   ]
  },
  {
   "cell_type": "code",
   "execution_count": 11,
   "metadata": {},
   "outputs": [
    {
     "name": "stdout",
     "output_type": "stream",
     "text": [
      "False\n"
     ]
    }
   ],
   "source": [
    "def bisectSearch1(L, e):\n",
    "    \"\"\"\n",
    "    L: List of int in Ascending order\n",
    "    \n",
    "    e: int\n",
    "    \n",
    "    return True if e in L\n",
    "    \"\"\"\n",
    "    \n",
    "    if L == []:\n",
    "        return False\n",
    "    \n",
    "    elif len(L) == 1:\n",
    "        return L[0] == e\n",
    "    \n",
    "    else:\n",
    "        \n",
    "        half = len(L)//2\n",
    "        \n",
    "        if L[half] > e:\n",
    "            return binarySearch1(L[:half],e) #Copying half the list increases the complexity\n",
    "        \n",
    "        else:\n",
    "            return binarySearch1(L[half:],e) #Copying half the list increases the complexity\n",
    "        \n",
    "L = [1 , 2 , 3]\n",
    "print(bisectSearch1(L, 4))\n"
   ]
  },
  {
   "cell_type": "code",
   "execution_count": 19,
   "metadata": {},
   "outputs": [],
   "source": [
    "def bisectSearch2(L, e):\n",
    "    \n",
    "    def bisectSearchHelper(L, e, low, high):\n",
    "        if high == low:\n",
    "            return L[low] == e\n",
    "        mid = (low+high)//2\n",
    "        \n",
    "        if L[mid] == e:\n",
    "            return True\n",
    "        \n",
    "        elif L[mid] > e:\n",
    "            if low == mid:\n",
    "                return False\n",
    "            \n",
    "            else:\n",
    "                return bisectSearchHelper(L, e, low, mid-1)\n",
    "        else:\n",
    "            return bisectSearchHelper(L, e, mid+1, high)\n",
    "    \n",
    "    if len(L) == 0:\n",
    "        return False\n",
    "    else:\n",
    "        return bisectSearchHelper(L, e, 0, len(L)-1)"
   ]
  },
  {
   "cell_type": "code",
   "execution_count": 24,
   "metadata": {},
   "outputs": [
    {
     "name": "stdout",
     "output_type": "stream",
     "text": [
      "False\n"
     ]
    }
   ],
   "source": [
    "L = [element for element in range(0,1001)]\n",
    "print(linearSearch(L, 1002))"
   ]
  },
  {
   "cell_type": "code",
   "execution_count": 27,
   "metadata": {},
   "outputs": [],
   "source": [
    "import random\n",
    "def bogoSort(L):\n",
    "    \"\"\"\n",
    "    L is a list\n",
    "    \n",
    "    returns sorted L\n",
    "    \"\"\"\n",
    "    while sorted(L) != L:\n",
    "        random.shuffle(L)\n",
    "        \n",
    "    return L\n"
   ]
  },
  {
   "cell_type": "code",
   "execution_count": 28,
   "metadata": {},
   "outputs": [
    {
     "name": "stdout",
     "output_type": "stream",
     "text": [
      "[1, 2, 3]\n"
     ]
    }
   ],
   "source": [
    "L = [3, 1,2]\n",
    "\n",
    "print(bogoSort(L))"
   ]
  },
  {
   "cell_type": "code",
   "execution_count": 31,
   "metadata": {},
   "outputs": [],
   "source": [
    "def bubbleSort(L):\n",
    "    \"\"\"\n",
    "    L is an unordered list\n",
    "    \n",
    "    returns L, ordered list\n",
    "    \"\"\"\n",
    "    \n",
    "    swap = False\n",
    "    \n",
    "    while not swap:\n",
    "        \n",
    "        swap = True\n",
    "        \n",
    "        for i in range(1, len(L)):\n",
    "            if L[i-1] > L[i]:\n",
    "                temp = L[i-1]\n",
    "                L[i-1] = L[i]\n",
    "                L[i] = temp\n",
    "                print(L)\n",
    "                swap = False\n",
    "    return L\n",
    "\n",
    "            "
   ]
  },
  {
   "cell_type": "code",
   "execution_count": 32,
   "metadata": {},
   "outputs": [
    {
     "name": "stdout",
     "output_type": "stream",
     "text": [
      "[1, 3, 2, 0, -1]\n",
      "[1, 2, 3, 0, -1]\n",
      "[1, 2, 0, 3, -1]\n",
      "[1, 2, 0, -1, 3]\n",
      "[1, 0, 2, -1, 3]\n",
      "[1, 0, -1, 2, 3]\n",
      "[0, 1, -1, 2, 3]\n",
      "[0, -1, 1, 2, 3]\n",
      "[-1, 0, 1, 2, 3]\n",
      "[-1, 0, 1, 2, 3]\n"
     ]
    }
   ],
   "source": [
    "L = [3, 1,2,0, -1]\n",
    "print(bubbleSort(L))"
   ]
  },
  {
   "cell_type": "code",
   "execution_count": 33,
   "metadata": {},
   "outputs": [
    {
     "name": "stdout",
     "output_type": "stream",
     "text": [
      "[-1, 3, 2, 1, 0]\n",
      "[-1, 0, 3, 2, 1]\n",
      "[-1, 0, 1, 3, 2]\n",
      "[-1, 0, 1, 2, 3]\n",
      "[-1, 0, 1, 2, 3]\n"
     ]
    }
   ],
   "source": [
    "def selectionSort(L):\n",
    "    \"\"\"\n",
    "    L is an unordered list\n",
    "    \n",
    "    returns L, ordered list\n",
    "    \"\"\"\n",
    "    \n",
    "    suffixSt = 0\n",
    "    \n",
    "    while suffixSt != len(L):\n",
    "        \n",
    "        for i in range(suffixSt, len(L)):\n",
    "            \n",
    "            if L[i]<L[suffixSt]:\n",
    "                L[suffixSt] , L[i] = L[i] , L[suffixSt]\n",
    "        print(L)        \n",
    "        suffixSt += 1\n",
    "\n",
    "L = [3, 1,2,0, -1]\n",
    "selectionSort(L)"
   ]
  },
  {
   "cell_type": "code",
   "execution_count": 35,
   "metadata": {},
   "outputs": [],
   "source": [
    "def merge(left, right):\n",
    "    \"\"\"\n",
    "    left, right: sorted lists\n",
    "    \n",
    "    returns a single sorted list\n",
    "    \"\"\"\n",
    "    \n",
    "    result = []\n",
    "    \n",
    "    i, j = 0, 0\n",
    "    \n",
    "    while i<len(left) and j<len(right):\n",
    "        \n",
    "        if left[i] < right[j]:\n",
    "            result.append(left[i])\n",
    "            i+=1\n",
    "        else:\n",
    "            result.append(right[j])\n",
    "            j+=1\n",
    "            \n",
    "    while (i < len(left)):\n",
    "        \n",
    "        result.append(left[i])\n",
    "        i+=1\n",
    "        \n",
    "    while (j < len(right)):\n",
    "        \n",
    "        result.append(right[j])\n",
    "        j+= 1\n",
    "        \n",
    "    return result\n",
    "\n",
    "def mergeSort(L):\n",
    "    \n",
    "    if len(L)<2:\n",
    "        return L[:]\n",
    "    \n",
    "    else:\n",
    "        \n",
    "        middle = len(L)//2\n",
    "        left = mergeSort(L[:middle])\n",
    "        right = mergeSort(L[middle:])\n",
    "        \n",
    "        Lr = merge(left,right)\n",
    "        print(Lr)\n",
    "        return Lr\n"
   ]
  },
  {
   "cell_type": "code",
   "execution_count": 36,
   "metadata": {},
   "outputs": [
    {
     "name": "stdout",
     "output_type": "stream",
     "text": [
      "[1, 3]\n",
      "[-1, 0]\n",
      "[-1, 0, 2]\n",
      "[-1, 0, 1, 2, 3]\n"
     ]
    },
    {
     "data": {
      "text/plain": [
       "[-1, 0, 1, 2, 3]"
      ]
     },
     "execution_count": 36,
     "metadata": {},
     "output_type": "execute_result"
    }
   ],
   "source": [
    "L = [3, 1, 2, 0, -1]\n",
    "mergeSort(L)"
   ]
  },
  {
   "cell_type": "code",
   "execution_count": null,
   "metadata": {},
   "outputs": [],
   "source": []
  }
 ],
 "metadata": {
  "kernelspec": {
   "display_name": "Python 3",
   "language": "python",
   "name": "python3"
  },
  "language_info": {
   "codemirror_mode": {
    "name": "ipython",
    "version": 3
   },
   "file_extension": ".py",
   "mimetype": "text/x-python",
   "name": "python",
   "nbconvert_exporter": "python",
   "pygments_lexer": "ipython3",
   "version": "3.6.4"
  }
 },
 "nbformat": 4,
 "nbformat_minor": 2
}
