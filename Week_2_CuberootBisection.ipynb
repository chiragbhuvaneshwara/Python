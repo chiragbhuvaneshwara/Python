{
 "cells": [
  {
   "cell_type": "code",
   "execution_count": 45,
   "metadata": {},
   "outputs": [
    {
     "name": "stdout",
     "output_type": "stream",
     "text": [
      "Number of guesses:  3419952 \n",
      "\n",
      "34.19951999965588 is close to cuberoot of 40000 with an approximation of 1e-05 \n",
      "\n",
      "Cubing using the guess: 40000.00374083146\n"
     ]
    }
   ],
   "source": [
    "#Using Exhaustive Search Algorithm - Very inefficient\n",
    "\n",
    "cube = 40000\n",
    "guess = 0\n",
    "num_guesses = 0\n",
    "epsilon = 0.1\n",
    "\n",
    "# An insanely small step size is required even for a relatively large epsilon value of 0.1\n",
    "step = 0.00001\n",
    "\n",
    "\n",
    "# condition = (abs(guess ** 3) - cube <= epsilon) and (guess <= cube)\n",
    "\n",
    "while (abs(guess ** 3) - cube <= epsilon) and (guess**3 <= cube):\n",
    "           \n",
    "    num_guesses += 1\n",
    "    guess += step\n",
    "    \n",
    "print(\"Number of guesses: \", num_guesses,\"\\n\")\n",
    "    \n",
    "if (abs(guess ** 3) - cube <= epsilon):\n",
    "    print(guess, \"is close to cuberoot of\",cube,\"with an approximation of\",step, \"\\n\")\n",
    "    print(\"Cubing using the guess:\", guess**3)\n",
    "else:\n",
    "    print(\"Could not find the cube root.\\n\")\n",
    "    \n",
    "    \n",
    "# The number of loops is way too many and this implementation cannot be sustained as computers do not\n",
    "# have so much power to spend on simple computations like square root.\n",
    "\n",
    "\n",
    "        "
   ]
  },
  {
   "cell_type": "code",
   "execution_count": null,
   "metadata": {},
   "outputs": [],
   "source": [
    "#Using Bisection Search Algorithm - Higly efficient\n",
    "\n",
    "cube = 4000\n",
    "low = 1\n",
    "high = cube\n",
    "guess = (low+high)/2\n",
    "iteration = 1\n",
    "epsilon = 0.01\n",
    "\n",
    "\n",
    "while (abs(guess**3 - cube) >= epsilon):\n",
    "    \n",
    "#     print(\"In iteration \", iteration, \" low is \", low, \"and high is \", high, \"and guess is \",guess ,\"\\n\")\n",
    "    \n",
    "    if abs(guess**3) > cube:\n",
    "        high = guess\n",
    "    else:\n",
    "        low = guess\n",
    "        \n",
    "    guess = (low+high) /2\n",
    "    \n",
    "    iteration += 1\n",
    "    \n",
    "print(\"Number of guesses: \", iteration,\"\\n\")\n",
    "\n",
    "# print(\"In iteration \", iteration, \" low is \", low, \"and high is \", high, \"and guess is \",guess,\"\\n\")\n",
    "print(\"The cube root of\", cube,\" is\", guess, \"with an approximation of\", epsilon,\"\\n\")\n",
    "print(\"Cubing using the guess\", guess**3)\n",
    "\n",
    "\n",
    "# As can be seen, the number of guesses here is incredibly lesser and so this kind\n",
    "# of algorithms are preferrable in real life scenarios"
   ]
  },
  {
   "cell_type": "code",
   "execution_count": 16,
   "metadata": {},
   "outputs": [
    {
     "name": "stdout",
     "output_type": "stream",
     "text": [
      "Res:  0.109375 \n",
      "\n",
      "Guess**3:  0.001308441162109375\n",
      "\n",
      " Iterations: 6\n"
     ]
    }
   ],
   "source": [
    "#Function to find cube root of any number i.e positive, negative, fraction\n",
    "\n",
    "def cubert(num):\n",
    "    \n",
    "    cube = abs(num)\n",
    "\n",
    "    #If number is a fraction\n",
    "    if cube <1:\n",
    "        low = 0\n",
    "        high = 1\n",
    "        guess = low + high/2\n",
    "        epsilon = 0.0001\n",
    "\n",
    "    else:\n",
    "        high = cube\n",
    "        low = 1\n",
    "        guess = (low+high)/2\n",
    "        epsilon = 0.01\n",
    "\n",
    "\n",
    "    iteration = 1\n",
    "#     epsilon = 0.01\n",
    "\n",
    "\n",
    "    while (abs(guess**3 - cube) >= epsilon):\n",
    "\n",
    "\n",
    "        if abs(guess**3) > cube:\n",
    "            high = guess\n",
    "        else:\n",
    "            low = guess\n",
    "\n",
    "        guess = (low+high) /2\n",
    "\n",
    "        iteration += 1\n",
    "\n",
    "    if num<0:\n",
    "        guess = -guess\n",
    "                \n",
    "            \n",
    "    return guess, iteration\n",
    "\n",
    "\n",
    "res = cubert(0.00125)\n",
    "print(\"Res: \",res[0], \"\\n\")\n",
    "\n",
    "print(\"Guess**3: \", res[0]**3)\n",
    "\n",
    "print(\"\\n Iterations:\", res[1])\n",
    "   \n",
    "    "
   ]
  },
  {
   "cell_type": "code",
   "execution_count": null,
   "metadata": {},
   "outputs": [],
   "source": []
  },
  {
   "cell_type": "code",
   "execution_count": null,
   "metadata": {},
   "outputs": [],
   "source": []
  }
 ],
 "metadata": {
  "kernelspec": {
   "display_name": "Python 3",
   "language": "python",
   "name": "python3"
  },
  "language_info": {
   "codemirror_mode": {
    "name": "ipython",
    "version": 3
   },
   "file_extension": ".py",
   "mimetype": "text/x-python",
   "name": "python",
   "nbconvert_exporter": "python",
   "pygments_lexer": "ipython3",
   "version": "3.6.2"
  }
 },
 "nbformat": 4,
 "nbformat_minor": 2
}
