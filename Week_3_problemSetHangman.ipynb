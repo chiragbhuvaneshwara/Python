{
 "cells": [
  {
   "cell_type": "markdown",
   "metadata": {},
   "source": [
    "# Problem 1: Is the word guessed?\n",
    "Please read the Hangman Introduction before starting this problem. We'll start by writing 3 simple functions that will help us easily code the Hangman problem. First, implement the function isWordGuessed that takes in two parameters - a string, secretWord, and a list of letters, lettersGuessed. This function returns a boolean - True if secretWord has been guessed (ie, all the letters of secretWord are in lettersGuessed) and False otherwise.\n",
    "\n",
    "### Example usage:\n",
    "###### secretWord = 'apple' \n",
    "###### lettersGuessed = ['e', 'i', 'k', 'p', 'r', 's']\n",
    "###### print(isWordGuessed(secretWord, lettersGuessed))\n",
    "###### False\n"
   ]
  },
  {
   "cell_type": "code",
   "execution_count": 11,
   "metadata": {},
   "outputs": [],
   "source": [
    "def isWordGuessed(secretWord, lettersGuessed):\n",
    "    '''\n",
    "    secretWord: string, word user is guessing\n",
    "    lettersGuessed: list, with letters guessed so far\n",
    "    \n",
    "    returns: boolean, True if all letters of secretWord are in lettersGuessed;\n",
    "      False otherwise\n",
    "    '''\n",
    "    \n",
    "    listBools = []\n",
    "    boolVal = True\n",
    "    maybe = True\n",
    "    \n",
    "    #Converting secretWord to List of letters in it\n",
    "    listSecretWord = list(secretWord)\n",
    "    \n",
    "    for letter in listSecretWord:\n",
    "        #Iterating over newly created list\n",
    "        \n",
    "        #Checking if letter from secretWord is in letter guessed by user\n",
    "        boolVal = letter in lettersGuessed\n",
    "        \n",
    "        #list of Boolean values: True if letter in lettersGuessed, False otherwise\n",
    "        listBools.append(boolVal)\n",
    "            \n",
    "    for boolElem in listBools:\n",
    "        #Iterate over list of booleans\n",
    "        \n",
    "        if boolElem == False:\n",
    "            #If one of the letters is not guessed, word is not guessed\n",
    "            return False\n",
    "    \n",
    "    #Following return executed ONLY if ALL letters were guessed\n",
    "    return True"
   ]
  },
  {
   "cell_type": "code",
   "execution_count": 12,
   "metadata": {},
   "outputs": [
    {
     "data": {
      "text/plain": [
       "False"
      ]
     },
     "execution_count": 12,
     "metadata": {},
     "output_type": "execute_result"
    }
   ],
   "source": [
    "#Test Cases:\n",
    "\n",
    "# isWordGuessed('apple', ['a', 'e', 'i', 'k', 'p', 'r', 's'])\n",
    "# isWordGuessed('durian', ['h', 'a', 'c', 'd', 'i', 'm', 'n', 'r', 't', 'u'])\n",
    "isWordGuessed('banana', ['l', 'k', 'o', 'v', 'm', 'e', 'z', 'y', 'n', 'b'])"
   ]
  },
  {
   "cell_type": "markdown",
   "metadata": {},
   "source": [
    "# Problem 2: Printing out the user's guess\n",
    "\n",
    "Next, implement the function getGuessedWord that takes in two parameters - a string, secretWord, and a list of letters, lettersGuessed. This function returns a string that is comprised of letters and underscores, based on what letters in lettersGuessed are in secretWord. This shouldn't be too different from isWordGuessed!\n",
    "\n",
    "### Example usage:\n",
    "##### secretWord = 'apple' \n",
    "##### lettersGuessed = ['e', 'i', 'k', 'p', 'r', 's']\n",
    "##### print(getGuessedWord(secretWord, lettersGuessed))\n",
    "##### _ pp_ e"
   ]
  },
  {
   "cell_type": "code",
   "execution_count": 13,
   "metadata": {},
   "outputs": [],
   "source": [
    "def getGuessedWord(secretWord, lettersGuessed):\n",
    "    '''\n",
    "    secretWord: string, word user is trying to guess\n",
    "    lettersGuessed: list, what letters user guessed so far\n",
    "    \n",
    "    returns: string, letters and underscores that represent\n",
    "      what letters in secretWord are guessed so far.\n",
    "    '''\n",
    "    \n",
    "    lenSecretWord = len(secretWord)\n",
    "    #Creating a list of \"_\" as entries, with number of entries = lenSecretWord\n",
    "    guessedSoFar = list(\"_\" * lenSecretWord) #See 2 cells below for difference\n",
    "    \n",
    "    #Converting secret word into list of letters in it\n",
    "    listSecretWord = list(secretWord)\n",
    "    \n",
    "    \"\"\"\n",
    "    Side note: Iterating over lettersGuessed would be a bad idea as user can make more guesses\n",
    "    than len(SecretWord) which makes everything unnecessarily complicated.\n",
    "    \"\"\"\n",
    "    for i in range(0, len(listSecretWord)):\n",
    "    #Iterating over list indices and NOT over list elems because of statements in if conditional    \n",
    "    \n",
    "        if listSecretWord[i] in lettersGuessed:\n",
    "            \n",
    "            #This assignment makes the blank a letter\n",
    "            guessedSoFar[i] = listSecretWord[i]\n",
    "    \n",
    "    #Converting list of letters and blanks to string\n",
    "    guessedSoFar = \"\".join(guessedSoFar)\n",
    "    \n",
    "    return guessedSoFar\n",
    "    \n",
    "    \n",
    "    "
   ]
  },
  {
   "cell_type": "code",
   "execution_count": 14,
   "metadata": {},
   "outputs": [
    {
     "data": {
      "text/plain": [
       "'_pp_e'"
      ]
     },
     "execution_count": 14,
     "metadata": {},
     "output_type": "execute_result"
    }
   ],
   "source": [
    "#Test Case:\n",
    "\n",
    "getGuessedWord('apple', ['e', 'i', 'k', 'p', 'r', 's'])"
   ]
  },
  {
   "cell_type": "code",
   "execution_count": 15,
   "metadata": {},
   "outputs": [
    {
     "data": {
      "text/plain": [
       "1"
      ]
     },
     "execution_count": 15,
     "metadata": {},
     "output_type": "execute_result"
    }
   ],
   "source": [
    "#See difference below\n",
    "\n",
    "secretWord ='apple'\n",
    "lenSecretWord = len(secretWord)\n",
    "\n",
    "##########################################\n",
    "guessedSoFar = [\"_\" * lenSecretWord]\n",
    "# guessedSoFar = list(\"_\" * lenSecretWord)\n",
    "##########################################\n",
    "\n",
    "len(guessedSoFar)"
   ]
  },
  {
   "cell_type": "markdown",
   "metadata": {},
   "source": [
    "# Problem 3: Printing out all available letters\n",
    "\n",
    "Next, implement the function getAvailableLetters that takes in one parameter - a list of letters, lettersGuessed. This function returns a string that is comprised of lowercase English letters - all lowercase English letters that are not in lettersGuessed.\n",
    "\n",
    "### Example Usage\n",
    "##### lettersGuessed = ['e', 'i', 'k', 'p', 'r', 's']\n",
    "##### print(getAvailableLetters(lettersGuessed))\n",
    "##### abcdfghjlmnoqtuvwxyz"
   ]
  },
  {
   "cell_type": "code",
   "execution_count": 16,
   "metadata": {},
   "outputs": [
    {
     "name": "stdout",
     "output_type": "stream",
     "text": [
      "abcdefghijklmnopqrstuvwxyz\n"
     ]
    }
   ],
   "source": [
    "import string\n",
    "print(string.ascii_lowercase)"
   ]
  },
  {
   "cell_type": "code",
   "execution_count": 17,
   "metadata": {},
   "outputs": [],
   "source": [
    "def getAvailableLetters(lettersGuessed):\n",
    "    '''\n",
    "    lettersGuessed: list, what letters have been guessed so far\n",
    "    returns: string, comprised of letters that represents what letters have not\n",
    "      yet been guessed.\n",
    "    '''\n",
    "    \n",
    "    allLetters = string.ascii_lowercase\n",
    "    allLettersList = list(allLetters)\n",
    "    remainingLettersList = allLettersList\n",
    "    remainingLetters = ''\n",
    "  \n",
    "    for letter in lettersGuessed:\n",
    "\n",
    "        if letter in allLettersList:\n",
    "            \n",
    "            \n",
    "             remainingLettersList.remove(letter)\n",
    "            \n",
    "\n",
    "    remainingLetters = \"\".join(remainingLettersList)\n",
    "    \n",
    "    return remainingLetters\n",
    "            \n",
    "            \n",
    "    "
   ]
  },
  {
   "cell_type": "code",
   "execution_count": 18,
   "metadata": {},
   "outputs": [
    {
     "name": "stdout",
     "output_type": "stream",
     "text": [
      "abcdfghjlmnoqstuvwxyz\n"
     ]
    }
   ],
   "source": [
    "#Test Case:\n",
    "lettersGuessed = ['e', 'i', 'k', 'p', 'r', ' s']\n",
    "print(getAvailableLetters(lettersGuessed))\n",
    "\n",
    "##############\n",
    "# Must check this"
   ]
  },
  {
   "cell_type": "markdown",
   "metadata": {},
   "source": [
    "# Problem 4 - The Game\n",
    "Now you will implement the function hangman, which takes one parameter - the secretWord the user is to guess. This starts up an interactive game of Hangman between the user and the computer. Be sure you take advantage of the three helper functions, isWordGuessed, getGuessedWord, and getAvailableLetters, that you've defined in the previous part.\n"
   ]
  },
  {
   "cell_type": "code",
   "execution_count": 19,
   "metadata": {},
   "outputs": [],
   "source": [
    "def hangman(secretWord):\n",
    "    '''\n",
    "    secretWord: string, secret word to guess.\n",
    "\n",
    "    Starts up an interactive game of Hangman.\n",
    "    Game carriend on on the monitor.\n",
    "    \n",
    "    returns: None\n",
    "\n",
    "    * At the start of the game, let the user know how many \n",
    "      letters the secretWord contains.\n",
    "\n",
    "    * Ask the user to supply one guess (i.e. letter) per round.\n",
    "\n",
    "    * The user should receive feedback immediately after each guess 0\n",
    "      about whether their guess appears in the computers word.\n",
    "\n",
    "    * After each round, you should also display to the user the \n",
    "      partially guessed word so far, as well as letters that the \n",
    "      user has not yet guessed.\n",
    "\n",
    "    Follows the other limitations detailed in the problem write-up.\n",
    "    '''\n",
    "        \n",
    "    numGuesses = 8 \n",
    "    lettersGuessed = ''\n",
    "    newLetter = ''\n",
    "    endLoop = False\n",
    "    \n",
    "    \n",
    "    print(\"Welcome to the game, Hangman!\")\n",
    "    print(\"I am thinking of a word that is\",len(secretWord),\"letters long.\")\n",
    "    print(\"-------------\")\n",
    "\n",
    "    \n",
    "    while endLoop == False:\n",
    "    #Executed till user wins or runs out of guesses    \n",
    "        \n",
    "        print(\"You have\", numGuesses, \" guesses left.\")\n",
    "        print(\"Available letters:\", getAvailableLetters(lettersGuessed))\n",
    "        \n",
    "        newLetter = input(\"Please guess a letter:\")\n",
    "        newLetter = newLetter.lower()\n",
    "        \n",
    "        if newLetter not in lettersGuessed:\n",
    "            lettersGuessed += newLetter\n",
    "            numGuesses -= 1\n",
    "            \n",
    "            if newLetter in secretWord:\n",
    "            #this if-else branching statement executed for letters in lettersGuessed\n",
    "                print(\"Good guess:\", getGuessedWord(secretWord, lettersGuessed))\n",
    "                print(\"-------------\")\n",
    "                numGuesses += 1\n",
    "                #numGuesses increased as user is not penalized for right guesses\n",
    "                \n",
    "            else: \n",
    "                print(\"Oops! That letter is not in my word:\", getGuessedWord(secretWord, lettersGuessed))\n",
    "                print(\"-------------\")\n",
    "                \n",
    "        else:\n",
    "        #numGuesses doesn't get affected i.e it stays the same. User not penalised.   \n",
    "            print(\"Oops!You've already guessed that letter:\", getGuessedWord(secretWord, lettersGuessed))\n",
    "            print(\"-------------\")\n",
    "        \n",
    "        if isWordGuessed(secretWord, lettersGuessed):\n",
    "            print(\"Congratulations, you won!\")\n",
    "            endLoop = True\n",
    "        \n",
    "        if numGuesses == 0:\n",
    "            \n",
    "            print(\"Sorry, you ran out of guesses. The word was\", secretWord)\n",
    "            endLoop = True\n",
    "    \n",
    "    return None\n"
   ]
  },
  {
   "cell_type": "code",
   "execution_count": 23,
   "metadata": {},
   "outputs": [],
   "source": [
    "secretWord = chooseWord(wordlist).lower()\n",
    "hangman(secretWord)"
   ]
  },
  {
   "cell_type": "code",
   "execution_count": null,
   "metadata": {},
   "outputs": [],
   "source": []
  },
  {
   "cell_type": "code",
   "execution_count": null,
   "metadata": {},
   "outputs": [],
   "source": []
  },
  {
   "cell_type": "code",
   "execution_count": null,
   "metadata": {},
   "outputs": [],
   "source": []
  },
  {
   "cell_type": "code",
   "execution_count": null,
   "metadata": {},
   "outputs": [],
   "source": []
  },
  {
   "cell_type": "code",
   "execution_count": null,
   "metadata": {},
   "outputs": [],
   "source": []
  },
  {
   "cell_type": "code",
   "execution_count": 21,
   "metadata": {},
   "outputs": [
    {
     "name": "stdout",
     "output_type": "stream",
     "text": [
      "Loading word list from file...\n",
      "   55909 words loaded.\n",
      "True\n"
     ]
    }
   ],
   "source": [
    "# Hangman game\n",
    "#\n",
    "\n",
    "# -----------------------------------\n",
    "# Helper code\n",
    "# You don't need to understand this helper code,\n",
    "# but you will have to know how to use the functions\n",
    "# (so be sure to read the docstrings!)\n",
    "\n",
    "import random\n",
    "\n",
    "WORDLIST_FILENAME = \"words.txt\"\n",
    "\n",
    "def loadWords():\n",
    "    \"\"\"\n",
    "    Returns a list of valid words. Words are strings of lowercase letters.\n",
    "    \n",
    "    Depending on the size of the word list, this function may\n",
    "    take a while to finish.\n",
    "    \"\"\"\n",
    "    print(\"Loading word list from file...\")\n",
    "    # inFile: file\n",
    "    inFile = open(WORDLIST_FILENAME, 'r')\n",
    "    # line: string\n",
    "    line = inFile.readline()\n",
    "    # wordlist: list of strings\n",
    "    wordlist = line.split()\n",
    "    print(\"  \", len(wordlist), \"words loaded.\")\n",
    "    return wordlist\n",
    "\n",
    "def chooseWord(wordlist):\n",
    "    \"\"\"\n",
    "    wordlist (list): list of words (strings)\n",
    "\n",
    "    Returns a word from wordlist at random\n",
    "    \"\"\"\n",
    "    return random.choice(wordlist)\n",
    "\n",
    "# end of helper code\n",
    "# -----------------------------------\n",
    "\n",
    "# Load the list of words into the variable wordlist\n",
    "# so that it can be accessed from anywhere in the program\n",
    "wordlist = loadWords()\n",
    "\n",
    "def isWordGuessed(secretWord, lettersGuessed):\n",
    "    '''\n",
    "    secretWord: string, the word the user is guessing\n",
    "    lettersGuessed: list, what letters have been guessed so far\n",
    "    returns: boolean, True if all the letters of secretWord are in lettersGuessed;\n",
    "      False otherwise\n",
    "    '''\n",
    "    # FILL IN YOUR CODE HERE...\n",
    "    listSecretWord = list(secretWord)\n",
    "    listBools = []\n",
    "    boolVal = True\n",
    "    \n",
    "    for elem in listSecretWord:\n",
    "        boolVal = elem in lettersGuessed\n",
    "        listBools.append(boolVal)\n",
    "            \n",
    "    for elem in listBools:\n",
    "        if elem == False:\n",
    "            return False\n",
    "        else:\n",
    "            return True\n",
    "\n",
    "print(isWordGuessed('durian', ['h', 'a', 'c', 'd', 'i', 'm', 'n', 'r', 't', 'u']))\n",
    "    \n",
    "\n",
    "\n",
    "def getGuessedWord(secretWord, lettersGuessed):\n",
    "    '''\n",
    "    secretWord: string, the word the user is guessing\n",
    "    lettersGuessed: list, what letters have been guessed so far\n",
    "    returns: string, comprised of letters and underscores that represents\n",
    "      what letters in secretWord have been guessed so far.\n",
    "    '''\n",
    "    # FILL IN YOUR CODE HERE...\n",
    "\n",
    "\n",
    "\n",
    "def getAvailableLetters(lettersGuessed):\n",
    "    '''\n",
    "    lettersGuessed: list, what letters have been guessed so far\n",
    "    returns: string, comprised of letters that represents what letters have not\n",
    "      yet been guessed.\n",
    "    '''\n",
    "    # FILL IN YOUR CODE HERE...\n",
    "    \n",
    "\n",
    "def hangman(secretWord):\n",
    "    '''\n",
    "    secretWord: string, the secret word to guess.\n",
    "\n",
    "    Starts up an interactive game of Hangman.\n",
    "\n",
    "    * At the start of the game, let the user know how many \n",
    "      letters the secretWord contains.\n",
    "\n",
    "    * Ask the user to supply one guess (i.e. letter) per round.\n",
    "\n",
    "    * The user should receive feedback immediately after each guess \n",
    "      about whether their guess appears in the computers word.\n",
    "\n",
    "    * After each round, you should also display to the user the \n",
    "      partially guessed word so far, as well as letters that the \n",
    "      user has not yet guessed.\n",
    "\n",
    "    Follows the other limitations detailed in the problem write-up.\n",
    "    '''\n",
    "    # FILL IN YOUR CODE HERE...\n",
    "\n",
    "\n",
    "\n",
    "\n",
    "\n",
    "\n",
    "\n",
    "# When you've completed your hangman function, uncomment these two lines\n",
    "# and run this file to test! (hint: you might want to pick your own\n",
    "# secretWord while you're testing)\n",
    "\n",
    "# secretWord = chooseWord(wordlist).lower()\n",
    "# hangman(secretWord)\n"
   ]
  },
  {
   "cell_type": "code",
   "execution_count": null,
   "metadata": {},
   "outputs": [],
   "source": []
  }
 ],
 "metadata": {
  "kernelspec": {
   "display_name": "Python 3",
   "language": "python",
   "name": "python3"
  },
  "language_info": {
   "codemirror_mode": {
    "name": "ipython",
    "version": 3
   },
   "file_extension": ".py",
   "mimetype": "text/x-python",
   "name": "python",
   "nbconvert_exporter": "python",
   "pygments_lexer": "ipython3",
   "version": "3.6.4"
  }
 },
 "nbformat": 4,
 "nbformat_minor": 2
}
