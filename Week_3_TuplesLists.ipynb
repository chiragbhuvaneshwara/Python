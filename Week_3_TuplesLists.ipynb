{
 "cells": [
  {
   "cell_type": "markdown",
   "metadata": {},
   "source": [
    "# Video: Tuples"
   ]
  },
  {
   "cell_type": "code",
   "execution_count": 11,
   "metadata": {},
   "outputs": [],
   "source": [
    "def segregateAndOrder(aTupleOfTuples):\n",
    "    \"\"\"\n",
    "    Takes in: a tuple; In this tuple: set of tuples with 1st elemnt int and 2nd element string\n",
    "    \n",
    "    returns: smallest int, largest int, tuple of non-repeated words\n",
    "    \"\"\"\n",
    "    nums = ()\n",
    "    words = ()\n",
    "    \n",
    "    \n",
    "    for tupleElement in aTupleOfTuples:\n",
    "        \n",
    "        nums = nums + (tupleElement[0],)\n",
    "        \n",
    "        \n",
    "        if tupleElement[1] not in words:\n",
    "            \n",
    "            words = words + (tupleElement[1],)\n",
    "    \n",
    "    smallest = min(nums)\n",
    "    largest = max(nums)\n",
    "    \n",
    "    nonRepeatedWords = words\n",
    "    \n",
    "    return smallest, largest, nonRepeatedWords\n",
    "\n",
    "\n"
   ]
  },
  {
   "cell_type": "code",
   "execution_count": 26,
   "metadata": {},
   "outputs": [
    {
     "name": "stdout",
     "output_type": "stream",
     "text": [
      "Printing a tuple.....\n",
      "(-1, '\\n', 34, '\\n', ('Badamtsss', 'asdasd', 'hi'))\n",
      "\n",
      "\n",
      "Printing by passing arguments to print()\n",
      "-1 \n",
      " 34 \n",
      " ('Badamtsss', 'asdasd', 'hi')\n"
     ]
    }
   ],
   "source": [
    "#Testing func segregateAndOrder\n",
    "tupleOfTuples =((1,\"Badamtsss\"),(34,\"asdasd\"), (-1, \"asdasd\"), (23,\"hi\"))\n",
    "\n",
    "s, l, w = segregateAndOrder(tupleOfTuples)\n",
    "\n",
    "print(\"Printing a tuple.....\")\n",
    "p = (s,\"\\n\",l,\"\\n\",w)\n",
    "\n",
    "print(p)\n",
    "\n",
    "\n",
    "print(\"\\n\")\n",
    "\n",
    "print(\"Printing by passing arguments to print()\")\n",
    "print(s,\"\\n\",l,\"\\n\",w)"
   ]
  },
  {
   "cell_type": "markdown",
   "metadata": {},
   "source": [
    "## Tuples Test:"
   ]
  },
  {
   "cell_type": "code",
   "execution_count": 27,
   "metadata": {},
   "outputs": [
    {
     "name": "stdout",
     "output_type": "stream",
     "text": [
      "0: (1, 2, (3, 'John', 4))\n",
      "1: True\n",
      "2: False\n",
      "3: Hi\n",
      "4: 4\n",
      "5: i\n"
     ]
    }
   ],
   "source": [
    "x = (1, 2, (3, 'John',4), \"Hi\")\n",
    "\n",
    "print(\"0:\",x[0:-1])\n",
    "\n",
    "####################\n",
    "print(\"1:\", 2 in x)\n",
    "\n",
    "print(\"2:\", 3 in x)\n",
    "###################\n",
    "\n",
    "print(\"3:\", x[-1])\n",
    "\n",
    "print(\"4:\", x[2][-1])\n",
    "\n",
    "print(\"5:\", x[-1][-1])"
   ]
  },
  {
   "cell_type": "markdown",
   "metadata": {},
   "source": [
    "# Exercise: Odd Tuples"
   ]
  },
  {
   "cell_type": "code",
   "execution_count": 28,
   "metadata": {},
   "outputs": [],
   "source": [
    "def oddTuples(aTup):\n",
    "    \"\"\"\n",
    "    aTup: a tuple of anything\n",
    "    \n",
    "    returns: tuple, every odd element of aTup\n",
    "    \"\"\"\n",
    "    return aTup[0::2]"
   ]
  },
  {
   "cell_type": "code",
   "execution_count": 29,
   "metadata": {},
   "outputs": [
    {
     "data": {
      "text/plain": [
       "('I', 'a', 'tuple')"
      ]
     },
     "execution_count": 29,
     "metadata": {},
     "output_type": "execute_result"
    }
   ],
   "source": [
    "aTup = ('I', 'am', 'a', 'test', 'tuple')\n",
    "oddTuples(aTup)"
   ]
  },
  {
   "cell_type": "markdown",
   "metadata": {},
   "source": [
    "# Video: Lists"
   ]
  },
  {
   "cell_type": "code",
   "execution_count": 32,
   "metadata": {},
   "outputs": [
    {
     "name": "stdout",
     "output_type": "stream",
     "text": [
      "None\n",
      "None\n",
      "None\n",
      "None\n",
      "[100, 0, 1, 4, 7]\n"
     ]
    }
   ],
   "source": [
    "listA = [1, 4, 3, 0]\n",
    "listB = ['x', 'z', 't', 'q']\n",
    "\n",
    "#Sorts listA in Ascending order\n",
    "print(listA.sort())\n",
    "\n",
    "#Insert 100 before index 0 i.e beginning of listA\n",
    "print(listA.insert(0,100))\n",
    "\n",
    "#Search for element '3' in listA and remove\n",
    "print(listA.remove(3))\n",
    "\n",
    "#Adds element '7' to end of listA\n",
    "print(listA.append(7))\n",
    "\n",
    "print(listA)"
   ]
  },
  {
   "cell_type": "code",
   "execution_count": 33,
   "metadata": {},
   "outputs": [
    {
     "name": "stdout",
     "output_type": "stream",
     "text": [
      "[100, 0, 1, 4, 7, 4, 1, 6, 3, 4]\n"
     ]
    }
   ],
   "source": [
    "#Adds to end of listA\n",
    "listA.extend([4, 1, 6, 3, 4])\n",
    "\n",
    "#Counts how many times '4' is in listA\n",
    "listA.count(4)\n",
    "\n",
    "#Returns the index of element '1' in listA\n",
    "listA.index(1) #'1' is element in list, this returns index of'1' in listA\n",
    "\n",
    "print(listA)"
   ]
  },
  {
   "cell_type": "code",
   "execution_count": 34,
   "metadata": {},
   "outputs": [
    {
     "name": "stdout",
     "output_type": "stream",
     "text": [
      "> 7\n",
      "> [100, 0, 1, 4, 4, 1, 6, 3, 4]\n",
      "> [4, 3, 6, 1, 4, 4, 1, 0, 100]\n"
     ]
    }
   ],
   "source": [
    "#returns listA[4] and deletes listA[4] from list\n",
    "print(\">\",listA.pop(4))\n",
    "print(\">\",listA)\n",
    "\n",
    "listA.reverse()\n",
    "print(\">\",listA)\n",
    "\n"
   ]
  },
  {
   "cell_type": "markdown",
   "metadata": {},
   "source": [
    "# Video : Mutation, Aliasing and Cloning"
   ]
  },
  {
   "cell_type": "code",
   "execution_count": 40,
   "metadata": {},
   "outputs": [
    {
     "name": "stdout",
     "output_type": "stream",
     "text": [
      "1: [['orange', 'yellow'], ['red']]\n",
      "2 [['orange', 'yellow', 'neon'], ['red']]\n"
     ]
    }
   ],
   "source": [
    "#Nested Lists\n",
    "\n",
    "warm = ['orange', 'yellow']\n",
    "hot = ['red']\n",
    "bright = [ warm, hot]\n",
    "print(\"1:\",bright)\n",
    "\n",
    "##Problem occurs when warm/hotis mutated\n",
    "warm.append(\"neon\")\n",
    "#bright isn't mutated by me, but due to how lists are:\n",
    "print(\"2\",bright)\n",
    "\n",
    "##So be careful with mutations"
   ]
  },
  {
   "cell_type": "code",
   "execution_count": 48,
   "metadata": {},
   "outputs": [
    {
     "name": "stdout",
     "output_type": "stream",
     "text": [
      "[2, 4, 5]\n",
      "But 2 is repeated and is not removed. \n",
      "Corrected verion found below.\n"
     ]
    }
   ],
   "source": [
    "#Mutation and Iteration:\n",
    "\n",
    "def remove_dups(L1, L2):\n",
    "    \"\"\"\n",
    "    L1: list\n",
    "    L2: list\n",
    "    \n",
    "    returns: mutated L1 without elements in L2\n",
    "    \"\"\"\n",
    "    \n",
    "    for e in L1:\n",
    "        \n",
    "        if e in L2:\n",
    "            L1.remove(e)\n",
    "\n",
    "    return L1\n",
    "\n",
    "L1 = [1, 2, 4, 5]\n",
    "L2 = [1, 2, 8, 9]\n",
    "\n",
    "print(remove_dups(L1, L2))\n",
    "print(\"But 2 is repeated and is not removed. \\nCorrected verion found below.\")"
   ]
  },
  {
   "cell_type": "code",
   "execution_count": 52,
   "metadata": {},
   "outputs": [
    {
     "name": "stdout",
     "output_type": "stream",
     "text": [
      "[4, 5]\n"
     ]
    }
   ],
   "source": [
    "def remove_dups(L1, L2):\n",
    "    \"\"\"\n",
    "    L1: list\n",
    "    L2: list\n",
    "    \n",
    "    returns: mutated L1 without elements in L2\n",
    "    \"\"\"\n",
    "#     Using below command still leads to same wrong o/p coz of aliasing\n",
    "#     L1_copy = L1\n",
    "    \n",
    "    L1_copy = L1[:]\n",
    "    for e in L1_copy:\n",
    "\n",
    "        if e in L2:\n",
    "            L1.remove(e)\n",
    "    \n",
    "    return L1\n",
    "\n",
    "L1 = [1, 2, 4, 5]\n",
    "L2 = [1, 2, 8, 9]\n",
    "\n",
    "print(remove_dups(L1, L2))"
   ]
  },
  {
   "cell_type": "code",
   "execution_count": 53,
   "metadata": {},
   "outputs": [
    {
     "data": {
      "text/plain": [
       "True"
      ]
     },
     "execution_count": 53,
     "metadata": {},
     "output_type": "execute_result"
    }
   ],
   "source": [
    "A = [1, 2]\n",
    "B = A\n",
    "A is B"
   ]
  },
  {
   "cell_type": "code",
   "execution_count": 1,
   "metadata": {},
   "outputs": [],
   "source": [
    "# Video: Functions as objects"
   ]
  },
  {
   "cell_type": "code",
   "execution_count": 19,
   "metadata": {},
   "outputs": [],
   "source": [
    "def applyToEach(theList, theFunc):\n",
    "    \"\"\"\n",
    "    theList: A list\n",
    "    theFunc: A function that can be applied to the datatype of \"theList\" elements\n",
    "    \n",
    "    returns: the updated theList\n",
    "    \"\"\"\n",
    "    for element in range(0, len(theList)):\n",
    "        theList[element] = theFunc(theList[element])\n",
    "    \n",
    "    return theList"
   ]
  },
  {
   "cell_type": "code",
   "execution_count": 17,
   "metadata": {},
   "outputs": [
    {
     "name": "stdout",
     "output_type": "stream",
     "text": [
      "[1, 4, 8, 9]\n"
     ]
    }
   ],
   "source": [
    "theList = [1, -4, 8, -9]\n",
    "theNewList = applyToEach(theList, abs)\n",
    "print(theNewList)"
   ]
  },
  {
   "cell_type": "code",
   "execution_count": 21,
   "metadata": {},
   "outputs": [
    {
     "name": "stdout",
     "output_type": "stream",
     "text": [
      "[2, -3, 9, -8]\n"
     ]
    }
   ],
   "source": [
    "def add_one(x):\n",
    "    return x+1\n",
    "\n",
    "theList = [1, -4, 8, -9]\n",
    "\n",
    "\n",
    "applyToEach(theList, add_one)\n",
    "print(theList)\n"
   ]
  },
  {
   "cell_type": "code",
   "execution_count": 24,
   "metadata": {},
   "outputs": [
    {
     "name": "stdout",
     "output_type": "stream",
     "text": [
      "[1, 16, 64, 81]\n"
     ]
    }
   ],
   "source": [
    "def square(x):\n",
    "    return x**2\n",
    "\n",
    "theList = [1, -4, 8, -9]\n",
    "applyToEach(theList, square)\n",
    "\n",
    "print (theList)"
   ]
  },
  {
   "cell_type": "code",
   "execution_count": 26,
   "metadata": {},
   "outputs": [
    {
     "data": {
      "text/plain": [
       "10"
      ]
     },
     "execution_count": 26,
     "metadata": {},
     "output_type": "execute_result"
    }
   ],
   "source": [
    "max(-3, 10)"
   ]
  },
  {
   "cell_type": "code",
   "execution_count": 3,
   "metadata": {},
   "outputs": [
    {
     "data": {
      "text/plain": [
       "False"
      ]
     },
     "execution_count": 3,
     "metadata": {},
     "output_type": "execute_result"
    }
   ],
   "source": [
    "L =['h', 'a', 'c', 'd', 'i', 'm', 'n', 'r', 't', 'u']\n",
    "\"\".join(L) == \"durian\""
   ]
  },
  {
   "cell_type": "code",
   "execution_count": null,
   "metadata": {},
   "outputs": [],
   "source": []
  }
 ],
 "metadata": {
  "kernelspec": {
   "display_name": "Python 3",
   "language": "python",
   "name": "python3"
  },
  "language_info": {
   "codemirror_mode": {
    "name": "ipython",
    "version": 3
   },
   "file_extension": ".py",
   "mimetype": "text/x-python",
   "name": "python",
   "nbconvert_exporter": "python",
   "pygments_lexer": "ipython3",
   "version": "3.6.4"
  }
 },
 "nbformat": 4,
 "nbformat_minor": 2
}
