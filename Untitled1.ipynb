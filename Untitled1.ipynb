{
 "cells": [
  {
   "cell_type": "code",
   "execution_count": null,
   "metadata": {},
   "outputs": [],
   "source": [
    "##Week 2 programming assignment\n",
    "\n",
    "def polysum(n, s):\n",
    "    \"\"\"\n",
    "    n: integer > 0, the number of sides of a regular polygon\n",
    "    s: float > 0, the legth of each side\n",
    "    \n",
    "    returns: area + perimeter^2 rounded to 4 decimal points\n",
    "    \"\"\"\n",
    "    import math\n",
    "    pi = math.pi \n",
    "    \n",
    "    \n",
    "    area_n = (0.25 * n * (s**2)) / math.tan(pi/n)\n",
    "    \n",
    "    perimeter = n * s\n",
    "    \n",
    "    res = area_n + (perimeter**2)\n",
    "    \n",
    "    res = round(res,4)\n",
    "    \n",
    "    return res\n",
    "\n",
    "polysum(4,10)"
   ]
  }
 ],
 "metadata": {
  "kernelspec": {
   "display_name": "Python 3",
   "language": "python",
   "name": "python3"
  },
  "language_info": {
   "codemirror_mode": {
    "name": "ipython",
    "version": 3
   },
   "file_extension": ".py",
   "mimetype": "text/x-python",
   "name": "python",
   "nbconvert_exporter": "python",
   "pygments_lexer": "ipython3",
   "version": "3.6.2"
  }
 },
 "nbformat": 4,
 "nbformat_minor": 2
}
