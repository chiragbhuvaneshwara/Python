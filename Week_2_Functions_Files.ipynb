{
 "cells": [
  {
   "cell_type": "code",
   "execution_count": 66,
   "metadata": {},
   "outputs": [
    {
     "data": {
      "text/plain": [
       "'number seven - the larch'"
      ]
     },
     "execution_count": 66,
     "metadata": {},
     "output_type": "execute_result"
    }
   ],
   "source": [
    "str1 = 'exterminate!' \n",
    "str2 = 'number one - the larch'\n",
    "\n",
    "\n",
    "str2.replace('one','seven')"
   ]
  },
  {
   "cell_type": "code",
   "execution_count": 67,
   "metadata": {},
   "outputs": [
    {
     "data": {
      "text/plain": [
       "4"
      ]
     },
     "execution_count": 67,
     "metadata": {},
     "output_type": "execute_result"
    }
   ],
   "source": [
    "str2.index('e')"
   ]
  },
  {
   "cell_type": "code",
   "execution_count": 68,
   "metadata": {},
   "outputs": [
    {
     "data": {
      "text/plain": [
       "'EXTERMINATE!'"
      ]
     },
     "execution_count": 68,
     "metadata": {},
     "output_type": "execute_result"
    }
   ],
   "source": [
    "str1.index('e')\n",
    "str1.upper()\n",
    "# str1"
   ]
  },
  {
   "cell_type": "code",
   "execution_count": 69,
   "metadata": {},
   "outputs": [
    {
     "data": {
      "text/plain": [
       "<function str.swapcase>"
      ]
     },
     "execution_count": 69,
     "metadata": {},
     "output_type": "execute_result"
    }
   ],
   "source": [
    "str2  = str2.capitalize()\n",
    "str2.swapcase"
   ]
  },
  {
   "cell_type": "code",
   "execution_count": 70,
   "metadata": {},
   "outputs": [
    {
     "data": {
      "text/plain": [
       "'*xt*rminat*!'"
      ]
     },
     "execution_count": 70,
     "metadata": {},
     "output_type": "execute_result"
    }
   ],
   "source": [
    "str1.replace('e','*')"
   ]
  },
  {
   "cell_type": "code",
   "execution_count": 71,
   "metadata": {},
   "outputs": [
    {
     "data": {
      "text/plain": [
       "-1"
      ]
     },
     "execution_count": 71,
     "metadata": {},
     "output_type": "execute_result"
    }
   ],
   "source": [
    "str2.find('!')"
   ]
  },
  {
   "cell_type": "code",
   "execution_count": 72,
   "metadata": {},
   "outputs": [
    {
     "data": {
      "text/plain": [
       "256"
      ]
     },
     "execution_count": 72,
     "metadata": {},
     "output_type": "execute_result"
    }
   ],
   "source": [
    "def iterPower(base, exp):\n",
    "    '''\n",
    "    base: int or float.\n",
    "    exp: int >= 0\n",
    " \n",
    "    returns: int or float, base^exp\n",
    "    '''\n",
    "    # Your code here\n",
    "    if exp == 0:\n",
    "        return 1\n",
    "    else:\n",
    "        return base * iterPower(base, exp-1)\n",
    "\n",
    "iterPower(16,2)"
   ]
  },
  {
   "cell_type": "code",
   "execution_count": 73,
   "metadata": {},
   "outputs": [
    {
     "name": "stdout",
     "output_type": "stream",
     "text": [
      "Move from  T1 to  T2 \n",
      "\n",
      "Move from  T1 to  T3 \n",
      "\n",
      "Move from  T2 to  T3 \n",
      "\n",
      "Move from  T1 to  T2 \n",
      "\n",
      "Move from  T3 to  T1 \n",
      "\n",
      "Move from  T3 to  T2 \n",
      "\n",
      "Move from  T1 to  T2 \n",
      "\n",
      "Move from  T1 to  T3 \n",
      "\n",
      "Move from  T2 to  T3 \n",
      "\n",
      "Move from  T2 to  T1 \n",
      "\n",
      "Move from  T3 to  T1 \n",
      "\n",
      "Move from  T2 to  T3 \n",
      "\n",
      "Move from  T1 to  T2 \n",
      "\n",
      "Move from  T1 to  T3 \n",
      "\n",
      "Move from  T2 to  T3 \n",
      "\n",
      "Move from  T1 to  T2 \n",
      "\n",
      "Move from  T3 to  T1 \n",
      "\n",
      "Move from  T3 to  T2 \n",
      "\n",
      "Move from  T1 to  T2 \n",
      "\n",
      "Move from  T3 to  T1 \n",
      "\n",
      "Move from  T2 to  T3 \n",
      "\n",
      "Move from  T2 to  T1 \n",
      "\n",
      "Move from  T3 to  T1 \n",
      "\n",
      "Move from  T3 to  T2 \n",
      "\n",
      "Move from  T1 to  T2 \n",
      "\n",
      "Move from  T1 to  T3 \n",
      "\n",
      "Move from  T2 to  T3 \n",
      "\n",
      "Move from  T1 to  T2 \n",
      "\n",
      "Move from  T3 to  T1 \n",
      "\n",
      "Move from  T3 to  T2 \n",
      "\n",
      "Move from  T1 to  T2 \n",
      "\n",
      "Move from  T1 to  T3 \n",
      "\n",
      "Move from  T2 to  T3 \n",
      "\n",
      "Move from  T2 to  T1 \n",
      "\n",
      "Move from  T3 to  T1 \n",
      "\n",
      "Move from  T2 to  T3 \n",
      "\n",
      "Move from  T1 to  T2 \n",
      "\n",
      "Move from  T1 to  T3 \n",
      "\n",
      "Move from  T2 to  T3 \n",
      "\n",
      "Move from  T2 to  T1 \n",
      "\n",
      "Move from  T3 to  T1 \n",
      "\n",
      "Move from  T3 to  T2 \n",
      "\n",
      "Move from  T1 to  T2 \n",
      "\n",
      "Move from  T3 to  T1 \n",
      "\n",
      "Move from  T2 to  T3 \n",
      "\n",
      "Move from  T2 to  T1 \n",
      "\n",
      "Move from  T3 to  T1 \n",
      "\n",
      "Move from  T2 to  T3 \n",
      "\n",
      "Move from  T1 to  T2 \n",
      "\n",
      "Move from  T1 to  T3 \n",
      "\n",
      "Move from  T2 to  T3 \n",
      "\n",
      "Move from  T1 to  T2 \n",
      "\n",
      "Move from  T3 to  T1 \n",
      "\n",
      "Move from  T3 to  T2 \n",
      "\n",
      "Move from  T1 to  T2 \n",
      "\n",
      "Move from  T1 to  T3 \n",
      "\n",
      "Move from  T2 to  T3 \n",
      "\n",
      "Move from  T2 to  T1 \n",
      "\n",
      "Move from  T3 to  T1 \n",
      "\n",
      "Move from  T2 to  T3 \n",
      "\n",
      "Move from  T1 to  T2 \n",
      "\n",
      "Move from  T1 to  T3 \n",
      "\n",
      "Move from  T2 to  T3 \n",
      "\n",
      "Move from  T1 to  T2 \n",
      "\n",
      "Move from  T3 to  T1 \n",
      "\n",
      "Move from  T3 to  T2 \n",
      "\n",
      "Move from  T1 to  T2 \n",
      "\n",
      "Move from  T3 to  T1 \n",
      "\n",
      "Move from  T2 to  T3 \n",
      "\n",
      "Move from  T2 to  T1 \n",
      "\n",
      "Move from  T3 to  T1 \n",
      "\n",
      "Move from  T3 to  T2 \n",
      "\n",
      "Move from  T1 to  T2 \n",
      "\n",
      "Move from  T1 to  T3 \n",
      "\n",
      "Move from  T2 to  T3 \n",
      "\n",
      "Move from  T1 to  T2 \n",
      "\n",
      "Move from  T3 to  T1 \n",
      "\n",
      "Move from  T3 to  T2 \n",
      "\n",
      "Move from  T1 to  T2 \n",
      "\n",
      "Move from  T3 to  T1 \n",
      "\n",
      "Move from  T2 to  T3 \n",
      "\n",
      "Move from  T2 to  T1 \n",
      "\n",
      "Move from  T3 to  T1 \n",
      "\n",
      "Move from  T2 to  T3 \n",
      "\n",
      "Move from  T1 to  T2 \n",
      "\n",
      "Move from  T1 to  T3 \n",
      "\n",
      "Move from  T2 to  T3 \n",
      "\n",
      "Move from  T2 to  T1 \n",
      "\n",
      "Move from  T3 to  T1 \n",
      "\n",
      "Move from  T3 to  T2 \n",
      "\n",
      "Move from  T1 to  T2 \n",
      "\n",
      "Move from  T3 to  T1 \n",
      "\n",
      "Move from  T2 to  T3 \n",
      "\n",
      "Move from  T2 to  T1 \n",
      "\n",
      "Move from  T3 to  T1 \n",
      "\n",
      "Move from  T3 to  T2 \n",
      "\n",
      "Move from  T1 to  T2 \n",
      "\n",
      "Move from  T1 to  T3 \n",
      "\n",
      "Move from  T2 to  T3 \n",
      "\n",
      "Move from  T1 to  T2 \n",
      "\n",
      "Move from  T3 to  T1 \n",
      "\n",
      "Move from  T3 to  T2 \n",
      "\n",
      "Move from  T1 to  T2 \n",
      "\n",
      "Move from  T1 to  T3 \n",
      "\n",
      "Move from  T2 to  T3 \n",
      "\n",
      "Move from  T2 to  T1 \n",
      "\n",
      "Move from  T3 to  T1 \n",
      "\n",
      "Move from  T2 to  T3 \n",
      "\n",
      "Move from  T1 to  T2 \n",
      "\n",
      "Move from  T1 to  T3 \n",
      "\n",
      "Move from  T2 to  T3 \n",
      "\n",
      "Move from  T1 to  T2 \n",
      "\n",
      "Move from  T3 to  T1 \n",
      "\n",
      "Move from  T3 to  T2 \n",
      "\n",
      "Move from  T1 to  T2 \n",
      "\n",
      "Move from  T3 to  T1 \n",
      "\n",
      "Move from  T2 to  T3 \n",
      "\n",
      "Move from  T2 to  T1 \n",
      "\n",
      "Move from  T3 to  T1 \n",
      "\n",
      "Move from  T3 to  T2 \n",
      "\n",
      "Move from  T1 to  T2 \n",
      "\n",
      "Move from  T1 to  T3 \n",
      "\n",
      "Move from  T2 to  T3 \n",
      "\n",
      "Move from  T1 to  T2 \n",
      "\n",
      "Move from  T3 to  T1 \n",
      "\n",
      "Move from  T3 to  T2 \n",
      "\n",
      "Move from  T1 to  T2 \n",
      "\n",
      "None\n"
     ]
    }
   ],
   "source": [
    "## Towers of Hanoi\n",
    "\n",
    "def printMove(frm, to):\n",
    "    \"\"\"\n",
    "    frm: string\n",
    "    to: string\n",
    "    \n",
    "    prints: one move\n",
    "    \n",
    "    returns: None\n",
    "    \"\"\"\n",
    "    \n",
    "    print(\"Move from \",frm,\"to \",to,\"\\n\" )\n",
    "    \n",
    "    \n",
    "    \n",
    "def Towers_Hanoi(num,frm,to,spare):\n",
    "    \"\"\"\n",
    "    num: int\n",
    "    frm: string\n",
    "    to: string\n",
    "    spare: string\n",
    "    \n",
    "    prints: steps to solve towers of Hanoi\n",
    "    \n",
    "    returns: None    \n",
    "    \"\"\"\n",
    "    \n",
    "    \n",
    "    num = int(num)\n",
    "    if num == 1:\n",
    "        printMove(frm,to)\n",
    "        \n",
    "    \n",
    "    else:\n",
    "        Towers_Hanoi(num-1, frm, spare, to)\n",
    "        Towers_Hanoi(1,frm,to,spare)\n",
    "        Towers_Hanoi(num-1,spare,to,frm)\n",
    "        \n",
    "\n",
    "\n",
    "## Calling the function\n",
    "print(Towers_Hanoi(7,\"T1\",\"T2\",\"T3\"))"
   ]
  },
  {
   "cell_type": "code",
   "execution_count": 74,
   "metadata": {},
   "outputs": [],
   "source": [
    "def gcdIter(a, b):\n",
    "    '''\n",
    "    a, b: positive integers\n",
    "    \n",
    "    returns: a positive integer, the greatest common divisor of a & b.\n",
    "    '''\n",
    "    # Your code here\n",
    "    test = 1\n",
    "    gcd = 0\n",
    "    \n",
    "    if a<b:\n",
    "        test = a\n",
    "    else:\n",
    "        test = b\n",
    "    \n",
    "    while test != 1:\n",
    "        if a%test==0 and b%test==0:\n",
    "            gcd = test\n",
    "            test = 2\n",
    "    \n",
    "        test -= 1\n",
    "    \n",
    "    if gcd == 0:\n",
    "        return 1\n",
    "    else:\n",
    "        return gcd\n",
    "        \n"
   ]
  },
  {
   "cell_type": "code",
   "execution_count": 7,
   "metadata": {},
   "outputs": [
    {
     "name": "stdout",
     "output_type": "stream",
     "text": [
      "Fib: 233\n",
      "465\n"
     ]
    }
   ],
   "source": [
    "#Fibonacci Numbers\n",
    "\n",
    "def fib(x):\n",
    "    \"\"\"\n",
    "    Assumes x as int, x>0\n",
    "    \n",
    "    Returns Fibonacci number\n",
    "    \"\"\"\n",
    "    \n",
    "    #Keeping track of num function calls\n",
    "    global numFibCalls\n",
    "    numFibCalls += 1\n",
    "    \n",
    "    if x==0 or x==1:\n",
    "        return 1\n",
    "    \n",
    "    else:\n",
    "        return fib(x-1) + fib(x-2)\n",
    "   \n",
    "numFibCalls = 0\n",
    "print(\"Fib:\",fib(12))\n",
    "print (numFibCalls)\n",
    "    "
   ]
  },
  {
   "cell_type": "code",
   "execution_count": 82,
   "metadata": {},
   "outputs": [
    {
     "name": "stdout",
     "output_type": "stream",
     "text": [
      "ablewasiereisawelba\n",
      "True\n"
     ]
    }
   ],
   "source": [
    "#Palindrome\n",
    "\n",
    "def convert_s(s):\n",
    "    \n",
    "    s = s.lower()\n",
    "    res = ''\n",
    "    for char in s:\n",
    "        for ch in \"abcdefghijklmnopqrstuvwxyz\":\n",
    "            if char == ch:\n",
    "                res += char\n",
    "    \n",
    "    return res\n",
    "\n",
    "def is_palindrome(s):\n",
    "    \n",
    "    if len(s)<=1:\n",
    "        return True\n",
    "    else:\n",
    "        if s[0] == s[-1] and is_palindrome(s[1:len(s)-1]):\n",
    "            return True\n",
    "        \n",
    "        else:\n",
    "            return False\n",
    "        \n",
    "s = convert_s(\"Able was I, ere I saw Elba....\") \n",
    "print(s)\n",
    "print(is_palindrome(s))"
   ]
  },
  {
   "cell_type": "code",
   "execution_count": 1,
   "metadata": {},
   "outputs": [
    {
     "data": {
      "text/plain": [
       "False"
      ]
     },
     "execution_count": 1,
     "metadata": {},
     "output_type": "execute_result"
    }
   ],
   "source": [
    "# We can use the idea of bisection search to determine if a character is in a string, so long as the string is sorted in alphabetical order.\n",
    "\n",
    "# First, test the middle character of a string against the character you're looking for (the \"test character\"). If they are the same, we are done - we've found the character we're looking for!\n",
    "\n",
    "# If they're not the same, check if the test character is \"smaller\" than the middle character. If so, we need only consider the lower half of the string; otherwise, we only consider the upper half of the string. (Note that you can compare characters using Python's < function.)\n",
    "\n",
    "# Implement the function isIn(char, aStr) which implements the above idea recursively to test if char is in aStr. char will be a single character and aStr will be a string that is in alphabetical order. The function should return a boolean value.\n",
    "\n",
    "# As you design the function, think very carefully about what the base cases should be.\n",
    "\n",
    "def isIn(char, aStr):\n",
    "    '''\n",
    "    char: a single character\n",
    "    aStr: an alphabetized string\n",
    "    \n",
    "    returns: True if char is in aStr; False otherwise\n",
    "    '''\n",
    "    # Your code here\n",
    "    \n",
    "    present = False\n",
    "    \n",
    "    middle = len(aStr)//2\n",
    "    last = len(aStr)-1\n",
    "    \n",
    "    if len(aStr) == 0 or char<aStr[0] or char>aStr[last]:\n",
    "        return False\n",
    "    \n",
    "    elif aStr[middle] == char: \n",
    "        return True\n",
    "\n",
    "    else:\n",
    "        if char < aStr[middle]:\n",
    "            aStr = aStr[0:middle:]\n",
    "            present = isIn(char, aStr)\n",
    "            return present\n",
    "\n",
    "        else:\n",
    "            aStr = aStr[middle::]\n",
    "            present = isIn(char, aStr)\n",
    "            return present\n",
    "    \n",
    "    \n",
    "isIn('',\"bbccdddd\")\n",
    "        "
   ]
  },
  {
   "cell_type": "code",
   "execution_count": null,
   "metadata": {},
   "outputs": [],
   "source": []
  },
  {
   "cell_type": "code",
   "execution_count": 6,
   "metadata": {},
   "outputs": [
    {
     "data": {
      "text/plain": [
       "1700.0"
      ]
     },
     "execution_count": 6,
     "metadata": {},
     "output_type": "execute_result"
    }
   ],
   "source": [
    "##Week 2 programming assignment\n",
    "\n",
    "def polysum(n, s):\n",
    "    \"\"\"\n",
    "    n: integer > 0, the number of sides of a regular polygon\n",
    "    s: float > 0, the legth of each side\n",
    "    \n",
    "    returns: area + perimeter^2 rounded to 4 decimal points\n",
    "    \"\"\"\n",
    "    import math\n",
    "    pi = math.pi \n",
    "    \n",
    "    \n",
    "    area_n = (0.25 * n * (s**2)) / math.tan(pi/n)\n",
    "    \n",
    "    perimeter = n * s\n",
    "    \n",
    "    res = area_n + (perimeter**2)\n",
    "    \n",
    "    res = round(res,4)\n",
    "    \n",
    "    return res\n",
    "\n",
    "polysum(4,10)"
   ]
  },
  {
   "cell_type": "code",
   "execution_count": null,
   "metadata": {},
   "outputs": [],
   "source": []
  }
 ],
 "metadata": {
  "kernelspec": {
   "display_name": "Python 3",
   "language": "python",
   "name": "python3"
  },
  "language_info": {
   "codemirror_mode": {
    "name": "ipython",
    "version": 3
   },
   "file_extension": ".py",
   "mimetype": "text/x-python",
   "name": "python",
   "nbconvert_exporter": "python",
   "pygments_lexer": "ipython3",
   "version": "3.6.4"
  }
 },
 "nbformat": 4,
 "nbformat_minor": 2
}
