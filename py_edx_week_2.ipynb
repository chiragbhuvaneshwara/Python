{
 "cells": [
  {
   "cell_type": "code",
   "execution_count": 2,
   "metadata": {},
   "outputs": [
    {
     "name": "stdout",
     "output_type": "stream",
     "text": [
      "Number of guesses:  100001\n",
      "10.000099999990033 is close to cuberoot of 1000 with an approximation of 0.0001\n"
     ]
    }
   ],
   "source": [
    "cube = 1000\n",
    "guess = 0\n",
    "num_guesses = 0\n",
    "epsilon = 0.1\n",
    "step = 0.0001\n",
    "\n",
    "\n",
    "# condition = (abs(guess ** 3) - cube <= epsilon) and (guess <= cube)\n",
    "\n",
    "while (abs(guess ** 3) - cube <= epsilon) and (guess**3 <= cube):\n",
    "           \n",
    "    num_guesses += 1\n",
    "    guess += step\n",
    "    \n",
    "print(\"Number of guesses: \", num_guesses)\n",
    "    \n",
    "if (abs(guess ** 3) - cube <= epsilon):\n",
    "    print(guess, \"is close to cuberoot of\",cube,\"with an approximation of\",step)\n",
    "else:\n",
    "    print(\"Could not find the cube root.\")\n",
    "    print(\"Else: Guess is\", guess)\n",
    "        "
   ]
  },
  {
   "cell_type": "code",
   "execution_count": 3,
   "metadata": {},
   "outputs": [
    {
     "name": "stdout",
     "output_type": "stream",
     "text": [
      "10000.40000596017\n"
     ]
    }
   ],
   "source": [
    "print(guess**4)"
   ]
  },
  {
   "cell_type": "code",
   "execution_count": 4,
   "metadata": {},
   "outputs": [
    {
     "name": "stdout",
     "output_type": "stream",
     "text": [
      "Please think of a number between 0 and 100!\n",
      "Is your number 50 ?\n",
      "Enter 'h' to indicate the guess is too high. Enter 'l' to indicate the guess is too low. Enter 'c' to indicate I guessed correctly.h\n",
      "Is your number 25 ?\n",
      "Enter 'h' to indicate the guess is too high. Enter 'l' to indicate the guess is too low. Enter 'c' to indicate I guessed correctly.l\n",
      "Is your number 37 ?\n",
      "Enter 'h' to indicate the guess is too high. Enter 'l' to indicate the guess is too low. Enter 'c' to indicate I guessed correctly.l\n",
      "Is your number 43 ?\n",
      "Enter 'h' to indicate the guess is too high. Enter 'l' to indicate the guess is too low. Enter 'c' to indicate I guessed correctly.h\n",
      "Is your number 40 ?\n",
      "Enter 'h' to indicate the guess is too high. Enter 'l' to indicate the guess is too low. Enter 'c' to indicate I guessed correctly.l\n",
      "Is your number 41 ?\n",
      "Enter 'h' to indicate the guess is too high. Enter 'l' to indicate the guess is too low. Enter 'c' to indicate I guessed correctly.l\n",
      "Is your number 42 ?\n",
      "Enter 'h' to indicate the guess is too high. Enter 'l' to indicate the guess is too low. Enter 'c' to indicate I guessed correctly.c\n",
      "Game over. Your secret number was: 42\n"
     ]
    }
   ],
   "source": [
    "# In this problem, you'll create a program that guesses a secret number!\n",
    "\n",
    "# The program works as follows: you (the user) thinks of an integer between 0 (inclusive) and 100 (not inclusive).\n",
    "# The computer makes guesses, and you give it input - is its guess too high or too low? Using bisection search,\n",
    "# the computer will guess the user's secret number!\n",
    "\n",
    "low = 0\n",
    "high = 100\n",
    "guess = (low + high) // 2\n",
    "iteration = 0\n",
    "\n",
    "print(\"Please think of a number between 0 and 100!\")\n",
    "\n",
    "\n",
    "\n",
    "while True:\n",
    "    \n",
    "    iteration += 1\n",
    "    \n",
    "    print(\"Is your number\", guess,\"?\")\n",
    "    user = input(\"Enter 'h' to indicate the guess is too high. Enter 'l' to indicate the guess is too low. Enter 'c' to indicate I guessed correctly.\")\n",
    "    \n",
    "    if user == 'c':\n",
    "        print(\"Game over. Your secret number was:\", guess)\n",
    "        break\n",
    "\n",
    "    elif user == 'l':\n",
    "        low = guess\n",
    "        guess = (low + high)// 2\n",
    "    \n",
    "    elif user == 'h':\n",
    "        high = guess\n",
    "        guess = (low + high)// 2\n",
    "        \n",
    "    elif user != 'c' or user != 'h' or user !='l':\n",
    "        print(\"Sorry, I did not understand your input.\")\n",
    "    \n",
    "#     elif iteration == 100:\n",
    "#         print(\"Too many attempts or you lied.\")\n",
    "#         break\n",
    "    \n",
    "        \n",
    "    \n",
    "    "
   ]
  },
  {
   "cell_type": "code",
   "execution_count": null,
   "metadata": {},
   "outputs": [],
   "source": []
  }
 ],
 "metadata": {
  "kernelspec": {
   "display_name": "Python 3",
   "language": "python",
   "name": "python3"
  },
  "language_info": {
   "codemirror_mode": {
    "name": "ipython",
    "version": 3
   },
   "file_extension": ".py",
   "mimetype": "text/x-python",
   "name": "python",
   "nbconvert_exporter": "python",
   "pygments_lexer": "ipython3",
   "version": "3.6.4"
  }
 },
 "nbformat": 4,
 "nbformat_minor": 2
}
