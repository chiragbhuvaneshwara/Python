{
 "cells": [
  {
   "cell_type": "code",
   "execution_count": 1,
   "metadata": {},
   "outputs": [],
   "source": [
    "def evalQuadratic(a, b, c, x):\n",
    "   '''\n",
    "   a, b, c: numerical values for the coefficients of a quadratic equation\n",
    "   x: numerical value at which to evaluate the quadratic.\n",
    "   '''\n",
    "   return a*x*x + b*x + c"
   ]
  },
  {
   "cell_type": "code",
   "execution_count": 2,
   "metadata": {},
   "outputs": [],
   "source": [
    "def twoQuadratics(a1, b1, c1, x1, a2, b2, c2, x2):\n",
    "    '''\n",
    "    a1, b1, c1: one set of coefficients of a quadratic equation\n",
    "    a2, b2, c2: another set of coefficients of a quadratic equation\n",
    "    x1, x2: values at which to evaluate the quadratics\n",
    "    '''\n",
    "    \n",
    "  # Your code here  \n",
    "    a = evalQuadratic(a1, b1, c1, x1)\n",
    "    b = evalQuadratic(a2, b2, c2, x2)\n",
    "    \n",
    "    return a + b\n"
   ]
  },
  {
   "cell_type": "code",
   "execution_count": 3,
   "metadata": {},
   "outputs": [
    {
     "name": "stdout",
     "output_type": "stream",
     "text": [
      "6\n"
     ]
    }
   ],
   "source": [
    "print(twoQuadratics(1,1,1,1,1,1,1,1))"
   ]
  },
  {
   "cell_type": "code",
   "execution_count": 90,
   "metadata": {},
   "outputs": [],
   "source": [
    "def deep_reverse(L):\n",
    "    \"\"\" assumes L is a list of lists whose elements are ints\n",
    "    Mutates L such that it reverses its elements and also \n",
    "    reverses the order of the int elements in every element of L. \n",
    "    It does not return anything.\n",
    "    \"\"\"\n",
    "    # Your code here\n",
    "#     For example, if L = [[1, 2], [3, 4], [5, 6, 7]] then deep_reverse(L) mutates L to be [[7, 6, 5], [4, 3], [2, 1]]\n",
    "    \n",
    "    newL = []\n",
    "    \n",
    "    for element in L:\n",
    "        element.reverse()\n",
    "    \n",
    "    L.reverse()\n",
    "    \n",
    "    return None"
   ]
  },
  {
   "cell_type": "code",
   "execution_count": 91,
   "metadata": {},
   "outputs": [
    {
     "name": "stdout",
     "output_type": "stream",
     "text": [
      "[[7, 6, 5], [4, 3], [2, 1]]\n"
     ]
    }
   ],
   "source": [
    "L = [[1, 2], [3, 4], [5, 6, 7]]\n",
    "deep_reverse(L)\n",
    "print(L)"
   ]
  },
  {
   "cell_type": "code",
   "execution_count": 92,
   "metadata": {},
   "outputs": [
    {
     "name": "stdout",
     "output_type": "stream",
     "text": [
      "[[100, -10, 10], [1, 2, 3], [3, 2, 1], [2, 1, 0]]\n"
     ]
    }
   ],
   "source": [
    "L = [[0, 1, 2], [1, 2, 3], [3, 2, 1], [10, -10, 100]]\n",
    "deep_reverse(L) \n",
    "print(L)"
   ]
  },
  {
   "cell_type": "code",
   "execution_count": 109,
   "metadata": {},
   "outputs": [],
   "source": [
    "def uniqueValues(aDict):\n",
    "    '''\n",
    "    aDict: a dictionary\n",
    "    '''\n",
    "    # Your code here\n",
    "    \n",
    "    l = []\n",
    "    uniqueKeys = []\n",
    "    val = list(aDict.values())\n",
    "    allKeys = list(aDict.keys())\n",
    "    \n",
    "    \n",
    "    for key in aDict:\n",
    "        count = 0\n",
    "        for i in range(0,len(val),1):\n",
    "            if aDict[key] == val[i]:\n",
    "                count += 1\n",
    "        if count == 1:\n",
    "            uniqueKeys.append(key)\n",
    "\n",
    "    l = sorted(uniqueKeys)\n",
    "    \n",
    "    return l\n",
    "    "
   ]
  },
  {
   "cell_type": "code",
   "execution_count": 110,
   "metadata": {},
   "outputs": [
    {
     "data": {
      "text/plain": [
       "[1, 2, 3]"
      ]
     },
     "execution_count": 110,
     "metadata": {},
     "output_type": "execute_result"
    }
   ],
   "source": [
    "uniqueValues({1: 1, 2: 2, 3: 3})"
   ]
  },
  {
   "cell_type": "code",
   "execution_count": 112,
   "metadata": {},
   "outputs": [
    {
     "data": {
      "text/plain": [
       "[]"
      ]
     },
     "execution_count": 112,
     "metadata": {},
     "output_type": "execute_result"
    }
   ],
   "source": [
    "uniqueValues({1: 1, 2: 1, 3: 1})"
   ]
  },
  {
   "cell_type": "code",
   "execution_count": 113,
   "metadata": {},
   "outputs": [
    {
     "data": {
      "text/plain": [
       "[3]"
      ]
     },
     "execution_count": 113,
     "metadata": {},
     "output_type": "execute_result"
    }
   ],
   "source": [
    "uniqueValues({1: 1, 2: 1, 3: 3})"
   ]
  },
  {
   "cell_type": "code",
   "execution_count": 183,
   "metadata": {},
   "outputs": [],
   "source": [
    "def gcd(a, b):\n",
    "    \"\"\"\n",
    "    a, b: two positive integers\n",
    "    Returns the greatest common divisor of a and b\n",
    "    \"\"\"\n",
    "    #YOUR CODE HERE\n",
    "#     if b == 0 or a==0:\n",
    "#         return 0\n",
    "    \n",
    "#     elif a<0 or b<0:\n",
    "#         return 0\n",
    "    \n",
    "#     else:\n",
    "    if a>b:\n",
    "        return gcd1(a,b)\n",
    "    else:\n",
    "        return gcd1(b,a)\n",
    "    \n",
    "def gcd1(a, b):\n",
    "    \n",
    "    if b == 0:\n",
    "        return a\n",
    "    \n",
    "    else:\n",
    "        \n",
    "        return gcd1(b, a%b)\n",
    "        "
   ]
  },
  {
   "cell_type": "code",
   "execution_count": 188,
   "metadata": {},
   "outputs": [
    {
     "data": {
      "text/plain": [
       "2"
      ]
     },
     "execution_count": 188,
     "metadata": {},
     "output_type": "execute_result"
    }
   ],
   "source": [
    "gcd(12,38)"
   ]
  },
  {
   "cell_type": "code",
   "execution_count": 185,
   "metadata": {},
   "outputs": [
    {
     "data": {
      "text/plain": [
       "8"
      ]
     },
     "execution_count": 185,
     "metadata": {},
     "output_type": "execute_result"
    }
   ],
   "source": [
    "8%16"
   ]
  },
  {
   "cell_type": "code",
   "execution_count": 197,
   "metadata": {},
   "outputs": [],
   "source": [
    "def applyF_filterG(L, f, g):\n",
    "    \"\"\"\n",
    "    Assumes L is a list of integers\n",
    "    Assume functions f and g are defined for you. \n",
    "    f takes in an integer, applies a function, returns another integer \n",
    "    g takes in an integer, applies a Boolean function, \n",
    "        returns either True or False\n",
    "    Mutates L such that, for each element i originally in L, L contains  \n",
    "        i if g(f(i)) returns True, and no other elements\n",
    "    Returns the largest element in the mutated L or -1 if the list is empty\n",
    "    \"\"\"\n",
    "    # Your code here\n",
    "    copyL = L[::]\n",
    "    \n",
    "    for i in range(len(copyL)):\n",
    "        if g(f(copyL[i])) != True:\n",
    "            L[i] = \"nan\"\n",
    "    \n",
    "    while( \"nan\" in L):\n",
    "        L.remove(\"nan\")\n",
    "    \n",
    "    if len(L) == 0:\n",
    "        return -1\n",
    "    else:\n",
    "        return sorted(L)[len(L)-1]\n",
    "    \n",
    "        "
   ]
  },
  {
   "cell_type": "code",
   "execution_count": 198,
   "metadata": {},
   "outputs": [
    {
     "name": "stdout",
     "output_type": "stream",
     "text": [
      "6\n",
      "[5, 6]\n"
     ]
    }
   ],
   "source": [
    "def f(i):\n",
    "    return i + 2\n",
    "def g(i):\n",
    "    return i > 5\n",
    "\n",
    "L = [0, -10, 5, 6, -4]\n",
    "print(applyF_filterG(L, f, g))\n",
    "print(L)"
   ]
  },
  {
   "cell_type": "code",
   "execution_count": 196,
   "metadata": {},
   "outputs": [
    {
     "data": {
      "text/plain": [
       "0"
      ]
     },
     "execution_count": 196,
     "metadata": {},
     "output_type": "execute_result"
    }
   ],
   "source": [
    "L = []\n",
    "len(L)"
   ]
  },
  {
   "cell_type": "code",
   "execution_count": null,
   "metadata": {},
   "outputs": [],
   "source": []
  }
 ],
 "metadata": {
  "kernelspec": {
   "display_name": "Python 3",
   "language": "python",
   "name": "python3"
  },
  "language_info": {
   "codemirror_mode": {
    "name": "ipython",
    "version": 3
   },
   "file_extension": ".py",
   "mimetype": "text/x-python",
   "name": "python",
   "nbconvert_exporter": "python",
   "pygments_lexer": "ipython3",
   "version": "3.6.4"
  }
 },
 "nbformat": 4,
 "nbformat_minor": 2
}
