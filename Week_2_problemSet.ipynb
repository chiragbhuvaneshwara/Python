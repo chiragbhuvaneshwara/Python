{
 "cells": [
  {
   "cell_type": "markdown",
   "metadata": {},
   "source": [
    "# Problem 1:\n",
    "### Balance after 1 year with minimum monthly payment"
   ]
  },
  {
   "cell_type": "code",
   "execution_count": 10,
   "metadata": {},
   "outputs": [],
   "source": [
    "\n",
    "#Paying of the debt in a year\n",
    "\n",
    "def debtInOneYear(balance, annualInterestRate, monthlyPaymentRate):\n",
    "    #monthlyPaymentRate is the minimum monthly payment specified by the bank\n",
    "    \n",
    "    #Initializing\n",
    "    prevBal = balance\n",
    "    \n",
    "    monthlyInterestRate = 0\n",
    "    minMonthlyPayment = 0\n",
    "    monthlyUnpaid = 0\n",
    "    updatedMonthlyBal = 0\n",
    "    \n",
    "    for i in range(0,12):\n",
    "        \n",
    "        monthlyInterestRate = annualInterestRate / 12\n",
    "\n",
    "        minMonthlyPayment = monthlyPaymentRate * prevBal\n",
    "\n",
    "        monthlyUnpaid = prevBal - minMonthlyPayment\n",
    "                \n",
    "        updatedMonthlyBal = monthlyUnpaid + (monthlyInterestRate * monthlyUnpaid)\n",
    "        \n",
    "        #For next iteration/ for next month\n",
    "        prevBal = updatedMonthlyBal\n",
    "        \n",
    "        #Rounding to 2 decimal places\n",
    "        updatedMonthlyBal = round(updatedMonthlyBal, 2)        \n",
    "        print(\"Remaining Balance in month #\",i+1,\"is: $\",updatedMonthlyBal)\n",
    "        \n",
    "    return updatedMonthlyBal\n",
    "\n"
   ]
  },
  {
   "cell_type": "code",
   "execution_count": 11,
   "metadata": {},
   "outputs": [
    {
     "name": "stdout",
     "output_type": "stream",
     "text": [
      "Remaining Balance in month # 1 is: $ 40.99\n",
      "Remaining Balance in month # 2 is: $ 40.01\n",
      "Remaining Balance in month # 3 is: $ 39.05\n",
      "Remaining Balance in month # 4 is: $ 38.11\n",
      "Remaining Balance in month # 5 is: $ 37.2\n",
      "Remaining Balance in month # 6 is: $ 36.3\n",
      "Remaining Balance in month # 7 is: $ 35.43\n",
      "Remaining Balance in month # 8 is: $ 34.58\n",
      "Remaining Balance in month # 9 is: $ 33.75\n",
      "Remaining Balance in month # 10 is: $ 32.94\n",
      "Remaining Balance in month # 11 is: $ 32.15\n",
      "Remaining Balance in month # 12 is: $ 31.38\n"
     ]
    },
    {
     "data": {
      "text/plain": [
       "31.38"
      ]
     },
     "execution_count": 11,
     "metadata": {},
     "output_type": "execute_result"
    }
   ],
   "source": [
    "debtInOneYear(42, 0.2, 0.04)"
   ]
  },
  {
   "cell_type": "code",
   "execution_count": 12,
   "metadata": {},
   "outputs": [
    {
     "name": "stdout",
     "output_type": "stream",
     "text": [
      "Remaining Balance in month # 1 is: $ 472.38\n",
      "Remaining Balance in month # 2 is: $ 461.05\n",
      "Remaining Balance in month # 3 is: $ 449.98\n",
      "Remaining Balance in month # 4 is: $ 439.18\n",
      "Remaining Balance in month # 5 is: $ 428.64\n",
      "Remaining Balance in month # 6 is: $ 418.35\n",
      "Remaining Balance in month # 7 is: $ 408.31\n",
      "Remaining Balance in month # 8 is: $ 398.51\n",
      "Remaining Balance in month # 9 is: $ 388.95\n",
      "Remaining Balance in month # 10 is: $ 379.62\n",
      "Remaining Balance in month # 11 is: $ 370.5\n",
      "Remaining Balance in month # 12 is: $ 361.61\n"
     ]
    },
    {
     "data": {
      "text/plain": [
       "361.61"
      ]
     },
     "execution_count": 12,
     "metadata": {},
     "output_type": "execute_result"
    }
   ],
   "source": [
    "debtInOneYear(484, 0.2, 0.04)"
   ]
  },
  {
   "cell_type": "code",
   "execution_count": 13,
   "metadata": {},
   "outputs": [
    {
     "name": "stdout",
     "output_type": "stream",
     "text": [
      "Remaining Balance: 361.61\n"
     ]
    }
   ],
   "source": [
    "#Paying of the debt in a year\n",
    "\n",
    "balance = 484\n",
    "annualInterestRate = 0.2\n",
    "monthlyPaymentRate = 0.04\n",
    "\n",
    "def debtInOneYear(balance, annualInterestRate, monthlyPaymentRate):\n",
    "    #monthlyPaymentRate is the minimum monthly payment specified by the bank\n",
    "    \n",
    "    #Initializing\n",
    "    prevBal = balance\n",
    "    \n",
    "    monthlyInterestRate = 0\n",
    "    minMonthlyPayment = 0\n",
    "    monthlyUnpaid = 0\n",
    "    updatedMonthlyBal = 0\n",
    "    \n",
    "    for i in range(0,12):\n",
    "        \n",
    "        monthlyInterestRate = annualInterestRate / 12\n",
    "\n",
    "        minMonthlyPayment = monthlyPaymentRate * prevBal\n",
    "\n",
    "        monthlyUnpaid = prevBal - minMonthlyPayment\n",
    "                \n",
    "        updatedMonthlyBal = monthlyUnpaid + (monthlyInterestRate * monthlyUnpaid)\n",
    "        \n",
    "        #For next iteration/ for next month\n",
    "        prevBal = updatedMonthlyBal\n",
    "        \n",
    "        #Rounding to 2 decimal places\n",
    "        updatedMonthlyBal = round(updatedMonthlyBal, 2)        \n",
    "    \n",
    "    return updatedMonthlyBal\n",
    "\n",
    "updatedMonthlyBal = debtInOneYear(balance, annualInterestRate, monthlyPaymentRate)\n",
    "print(\"Remaining Balance:\", updatedMonthlyBal)"
   ]
  },
  {
   "cell_type": "markdown",
   "metadata": {},
   "source": [
    "# Problem 2:\n",
    "### Pay off the complete debt in one year (Exhaustive search i.e primitive)"
   ]
  },
  {
   "cell_type": "code",
   "execution_count": 24,
   "metadata": {},
   "outputs": [],
   "source": [
    "def debtInOneYear(balance, annualInterestRate, monthlyPayment):\n",
    "    \n",
    "    #Initializing\n",
    "    prevBal = balance\n",
    "    \n",
    "    monthlyInterestRate = 0\n",
    "    monthlyUnpaid = 0\n",
    "    updatedMonthlyBal = 0\n",
    "    \n",
    "    for month in range(1,12+1):\n",
    "        \n",
    "        monthlyInterestRate = annualInterestRate / 12\n",
    "\n",
    "        monthlyUnpaid = prevBal - monthlyPayment\n",
    "                \n",
    "        updatedMonthlyBal = monthlyUnpaid + (monthlyInterestRate * monthlyUnpaid)\n",
    "        \n",
    "        #For next iteration/ for next month\n",
    "        prevBal = updatedMonthlyBal\n",
    "        \n",
    "    balAfterYear = updatedMonthlyBal\n",
    "    \n",
    "    return balAfterYear\n",
    "\n",
    "balance = 320000\n",
    "annualInterestRate = 0.2\n",
    "\n",
    "lowerBound = annulaInterestRate/ 12\n",
    "\n",
    "debtInOneYear(balance, annualInterestRate, lowerBound)"
   ]
  },
  {
   "cell_type": "code",
   "execution_count": 21,
   "metadata": {},
   "outputs": [],
   "source": [
    "def payOffInOneYear(balance, annualInterestRate):\n",
    "    \n",
    "    #Initialization\n",
    "    monthlyPayment = 0\n",
    "    negOrZero = False\n",
    "    \n",
    "    while negOrZero == False:\n",
    "\n",
    "        monthlyPayment += 10\n",
    "        balAfterYear = debtInOneYear(balance, annualInterestRate, monthlyPayment)\n",
    "\n",
    "        if balAfterYear <= 0:\n",
    "            negOrZero = True\n",
    "            \n",
    "    return monthlyPayment"
   ]
  },
  {
   "cell_type": "code",
   "execution_count": 22,
   "metadata": {},
   "outputs": [
    {
     "name": "stdout",
     "output_type": "stream",
     "text": [
      "Lowest Payment:  440\n"
     ]
    }
   ],
   "source": [
    "#Test Case\n",
    "balance = 4773\n",
    "annualInterestRate = 0.2\n",
    "\n",
    "lowestPayment = payOffInOneYear(balance, annualInterestRate)\n",
    "print(\"Lowest Payment: \",lowestPayment)"
   ]
  },
  {
   "cell_type": "markdown",
   "metadata": {},
   "source": [
    "# Problem 3:\n",
    "### Pay off debt in one year (Bisection Search)"
   ]
  },
  {
   "cell_type": "code",
   "execution_count": 3,
   "metadata": {},
   "outputs": [],
   "source": [
    "def debtInOneYear(balance, annualInterestRate, monthlyPaymentRate):\n",
    "    #monthlyPaymentRate is the minimum monthly payment specified by the bank\n",
    "    \n",
    "    #Initializing\n",
    "    prevBal = balance\n",
    "    \n",
    "    monthlyInterestRate = 0\n",
    "    minMonthlyPayment = 0\n",
    "    monthlyUnpaid = 0\n",
    "    updatedMonthlyBal = 0\n",
    "    \n",
    "    for i in range(0,12):\n",
    "        \n",
    "        monthlyInterestRate = annualInterestRate / 12\n",
    "\n",
    "        minMonthlyPayment = monthlyPaymentRate * prevBal\n",
    "\n",
    "        monthlyUnpaid = prevBal - minMonthlyPayment\n",
    "                \n",
    "        updatedMonthlyBal = monthlyUnpaid + (monthlyInterestRate * monthlyUnpaid)\n",
    "        \n",
    "        #For next iteration/ for next month\n",
    "        prevBal = updatedMonthlyBal\n",
    "        \n",
    "        #Rounding to 2 decimal places\n",
    "        updatedMonthlyBal = round(updatedMonthlyBal, 2)        \n",
    "    \n",
    "    return updatedMonthlyBal\n",
    "\n",
    "\n"
   ]
  },
  {
   "cell_type": "code",
   "execution_count": 12,
   "metadata": {},
   "outputs": [
    {
     "name": "stdout",
     "output_type": "stream",
     "text": [
      "Lower Bound is:  0.016666666666666666\n",
      "Lower Bound Bal:  7.499196462618448e+58\n",
      "Upper bound is:  27562.96296296296\n",
      "Upper Bound Bal:   318934.96 \n",
      "\n",
      "Lowest Payemnt: 13781.489814814813\n"
     ]
    },
    {
     "data": {
      "text/plain": [
       "13781.489814814813"
      ]
     },
     "execution_count": 12,
     "metadata": {},
     "output_type": "execute_result"
    }
   ],
   "source": [
    "def payOffInOneYearBisection(balance, annualInterestRate):\n",
    "\n",
    "    monthlyInterestRate = annualInterestRate / 12\n",
    "    \n",
    "    a_Bound = monthlyInterestRate\n",
    "    b_Bound = balance * ((1+monthlyInterestRate)**2)/12 \n",
    "    lowerBound = a_Bound\n",
    "    upperBound = b_Bound\n",
    "    \n",
    "    bal_a = debtInOneYear(balance, annualInterestRate, a_Bound)\n",
    "    bal_b = debtInOneYear(balance, annualInterestRate, b_Bound)\n",
    "    \n",
    "    \n",
    "    balLower = bal_b\n",
    "    balUpper = bal_a\n",
    "\n",
    "    print(\"Lower Bound is: \",lowerBound)\n",
    "    print(\"Lower Bound Bal: \",balLower)\n",
    "\n",
    "    print(\"Upper bound is: \",upperBound)\n",
    "    print(\"Upper Bound Bal:  \",balUpper , \"\\n\")\n",
    "\n",
    "    \n",
    "    pred = (lowerBound + upperBound) / 2\n",
    "    balPred = debtInOneYear(balance, annualInterestRate, pred)\n",
    "    loop = 0\n",
    "    epsilon = 10\n",
    "    \n",
    "    \"\"\"and (abs(balPred) <= balUpper)\"\"\"\n",
    "    while (abs(balPred)-balUpper <= epsilon) :\n",
    "\n",
    "        print(\"loop #\", loop)\n",
    "        loop = loop +1\n",
    "\n",
    "        print(\"Prediction: \",pred)\n",
    "\n",
    "        balPred = debtInOneYear(balance, annualInterestRate, pred)\n",
    "        print(\"Bal after year with Pred: \", balPred , \"\\n\")\n",
    "\n",
    "        if  balPred > balUpper  :\n",
    "            upperBound = pred\n",
    "\n",
    "        else: #if balPred < balLower:\n",
    "            lowerBound = pred\n",
    "            \n",
    "        balLower = debtInOneYear(balance, annualInterestRate, lowerBound)\n",
    "        balUpper = debtInOneYear(balance, annualInterestRate, upperBound)\n",
    "        pred = (upperBound + lowerBound) / 2\n",
    "            \n",
    "    print(\"Lowest Payemnt:\", pred)\n",
    "    return pred\n",
    "\n",
    "        \n",
    "balance = 320000\n",
    "annualInterestRate = 0.2\n",
    "payOffInOneYearBisection(balance, annualInterestRate)"
   ]
  },
  {
   "cell_type": "code",
   "execution_count": null,
   "metadata": {},
   "outputs": [],
   "source": []
  }
 ],
 "metadata": {
  "kernelspec": {
   "display_name": "Python 3",
   "language": "python",
   "name": "python3"
  },
  "language_info": {
   "codemirror_mode": {
    "name": "ipython",
    "version": 3
   },
   "file_extension": ".py",
   "mimetype": "text/x-python",
   "name": "python",
   "nbconvert_exporter": "python",
   "pygments_lexer": "ipython3",
   "version": "3.6.2"
  }
 },
 "nbformat": 4,
 "nbformat_minor": 2
}
